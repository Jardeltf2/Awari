{
 "cells": [
  {
   "cell_type": "markdown",
   "metadata": {
    "colab_type": "text",
    "id": "view-in-github"
   },
   "source": [
    "![](https://i.imgur.com/YX6UATs.png)"
   ]
  },
  {
   "cell_type": "markdown",
   "metadata": {
    "colab_type": "text",
    "id": "AYHY2YXQf6J2"
   },
   "source": [
    "### Desafio 12\n",
    "\n",
    "Escreva uma função em Python para verificar a validade de uma senha.\n",
    "\n",
    "A senha deve ter:\n",
    "\n",
    "* Pelo menos 1 letra entre [a-z] e 1 letra entre [A-Z].\n",
    "* Pelo menos 1 número entre [0-9].\n",
    "* Pelo menos 1 caractere de [$ # @].\n",
    "* Comprimento mínimo de 6 caracteres.\n",
    "* Comprimento máximo de 16 caracteres.\n",
    "\n",
    "Entradas: \"12345678\", \"J3sus0\", \"#Te5t300\", \"J*90j12374\", \"Michheeul\", \"Monk3y6\"\n",
    "\n",
    "A saída deve ser a senha e um texto indicando se a senha é válida ou inválida:\n",
    "\n",
    "```\n",
    "\"1234\" - Senha inválida\n",
    "\"Qw#1234\" - Senha válida\n",
    "```"
   ]
  },
  {
   "cell_type": "code",
   "execution_count": 1,
   "metadata": {
    "colab": {},
    "colab_type": "code",
    "id": "UGgtGYGGf6J3"
   },
   "outputs": [],
   "source": [
    "#Utilizando tabela ASCII\n",
    "def valida_senha (senha):\n",
    "    #Confere o tamanho da senha\n",
    "    if (len(senha) < 6 or len(senha) > 16):\n",
    "        print ('\"' + senha + '\" - Senha inválida')\n",
    "    else:\n",
    "        valida_senha = [0,0,0,0]\n",
    "        for n in senha:\n",
    "            #Trecho da tabela ASC para números, letras e símbolos\n",
    "            if (33 <= ord(n)and ord(n)<=126):\n",
    "                #letra minúscula\n",
    "                if (97 <= ord(n) and ord(n)<=122):\n",
    "                    valida_senha[0]=1\n",
    "                #letra maiúscula\n",
    "                elif (65 <= ord(n) and ord(n)<=90):\n",
    "                    valida_senha[1]=1\n",
    "                #numero\n",
    "                elif (48 <= ord(n) and ord(n)<=57):\n",
    "                    valida_senha[2]=1\n",
    "                #símbolo                   \n",
    "                else:\n",
    "                    valida_senha[3]=1\n",
    "        if (sum(valida_senha) == 4):\n",
    "            print ('\"' + senha + '\" - Senha válida')\n",
    "        else:\n",
    "            print ('\"' + senha + '\" - Senha inválida')                "
   ]
  },
  {
   "cell_type": "code",
   "execution_count": 23,
   "metadata": {},
   "outputs": [],
   "source": [
    "#Utilizando regex\n",
    "import re\n",
    "def valida_senha2(senha):\n",
    "    regras_regex = [\"[0-9]\", \"[a-z]\", \"[A-Z]\", \"[$#@]\"]\n",
    "    min_tamanho = 6\n",
    "    max_tamanho = 16\n",
    "    errors = []\n",
    "    for regra in regras_regex:\n",
    "        if len(re.findall(regra, senha))==0:\n",
    "            errors.append(f\"Falha na regra {regra}\")\n",
    "    if len(senha)<min_tamanho:\n",
    "        errors.append(\"Senha muito pequena\")\n",
    "    if len(senha)>max_tamanho: \n",
    "        errors.append(\"Senha muito grande\")\n",
    "    if len(errors)>0:\n",
    "        print(errors)\n",
    "        print ('\"' + senha + '\" - Senha inválida')\n",
    "    else:\n",
    "        print (errors)\n",
    "        print ('\"' + senha + '\" - Senha válida')"
   ]
  },
  {
   "cell_type": "code",
   "execution_count": 24,
   "metadata": {},
   "outputs": [
    {
     "name": "stdout",
     "output_type": "stream",
     "text": [
      "['Falha na regra [0-9]', 'Falha na regra [$#@]']\n",
      "\"Michheeul\" - Senha inválida\n"
     ]
    }
   ],
   "source": [
    "valida_senha2 (\"Michheeul\")"
   ]
  },
  {
   "cell_type": "code",
   "execution_count": null,
   "metadata": {},
   "outputs": [],
   "source": []
  }
 ],
 "metadata": {
  "anaconda-cloud": {},
  "colab": {
   "include_colab_link": true,
   "name": "Desafio 12.ipynb",
   "provenance": []
  },
  "kernelspec": {
   "display_name": "Python 3",
   "language": "python",
   "name": "python3"
  },
  "language_info": {
   "codemirror_mode": {
    "name": "ipython",
    "version": 3
   },
   "file_extension": ".py",
   "mimetype": "text/x-python",
   "name": "python",
   "nbconvert_exporter": "python",
   "pygments_lexer": "ipython3",
   "version": "3.8.5"
  }
 },
 "nbformat": 4,
 "nbformat_minor": 1
}
