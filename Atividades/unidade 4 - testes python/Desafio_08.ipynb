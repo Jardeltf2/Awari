{
 "cells": [
  {
   "cell_type": "markdown",
   "metadata": {
    "colab_type": "text",
    "id": "view-in-github"
   },
   "source": [
    "![](https://i.imgur.com/YX6UATs.png)"
   ]
  },
  {
   "cell_type": "markdown",
   "metadata": {
    "colab_type": "text",
    "id": "o3tkeMDNf6Jo"
   },
   "source": [
    "### Desafio 8\n",
    "\n",
    "Escreva um script Python para encontrar as 10 palavras mais longas em um arquivo de texto.\n",
    "O arquivo .txt está localizado na mesma pasta do projeto (**texto.txt**)."
   ]
  },
  {
   "cell_type": "code",
   "execution_count": 22,
   "metadata": {
    "colab": {},
    "colab_type": "code",
    "id": "EknxjSG0f6Jo"
   },
   "outputs": [
    {
     "data": {
      "text/plain": [
       "['management',\n",
       " 'emphasizes',\n",
       " 'philosophy',\n",
       " 'imperative',\n",
       " 'interpreted',\n",
       " 'programming',\n",
       " 'programmers',\n",
       " 'readability',\n",
       " 'intermediate',\n",
       " 'comprehensive']"
      ]
     },
     "execution_count": 22,
     "metadata": {},
     "output_type": "execute_result"
    }
   ],
   "source": [
    "import string\n",
    "pontuacao = string.punctuation\n",
    "#leitura do texto\n",
    "with open (\"texto.txt\",\"r\") as f:\n",
    "    texto = f.read()\n",
    "#retira os saltos de linha\n",
    "texto =texto.replace(\"\\n\",\" \")\n",
    "# retira a pontuação\n",
    "texto_sem_pontuacao = [letra if letra not in pontuacao else \" \" for letra in texto]\n",
    "#junta todas as letras em um texto\n",
    "texto_sem_pontuacao = \"\".join(texto_sem_pontuacao)\n",
    "#retira as palavras repetidas\n",
    "palavras_sem_repetir = list(set(texto_sem_pontuacao.split(\" \")))\n",
    "sorted (palavras_sem_repetir, key = len)[-10:]"
   ]
  },
  {
   "cell_type": "code",
   "execution_count": null,
   "metadata": {},
   "outputs": [],
   "source": []
  }
 ],
 "metadata": {
  "anaconda-cloud": {},
  "colab": {
   "include_colab_link": true,
   "name": "Desafio 8.ipynb",
   "provenance": []
  },
  "kernelspec": {
   "display_name": "Python 3",
   "language": "python",
   "name": "python3"
  },
  "language_info": {
   "codemirror_mode": {
    "name": "ipython",
    "version": 3
   },
   "file_extension": ".py",
   "mimetype": "text/x-python",
   "name": "python",
   "nbconvert_exporter": "python",
   "pygments_lexer": "ipython3",
   "version": "3.8.5"
  }
 },
 "nbformat": 4,
 "nbformat_minor": 1
}
